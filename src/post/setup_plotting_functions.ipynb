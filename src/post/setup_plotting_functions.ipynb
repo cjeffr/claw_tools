{
 "cells": [
  {
   "cell_type": "code",
   "execution_count": 1,
   "id": "38da0dc6-f33a-4cd7-9d9c-30f002d0615b",
   "metadata": {},
   "outputs": [],
   "source": [
    "import yaml"
   ]
  },
  {
   "cell_type": "code",
   "execution_count": 3,
   "id": "cfbc4ebf-7925-4c63-aae4-088932e2563d",
   "metadata": {},
   "outputs": [],
   "source": [
    "with open(\"gmt_config.yml\", \"r\") as ymlfile:\n",
    "    cfg = yaml.safe_load(ymlfile)\n"
   ]
  },
  {
   "cell_type": "code",
   "execution_count": 4,
   "id": "560250c7-9213-43dd-8574-23e35840bb5e",
   "metadata": {},
   "outputs": [
    {
     "name": "stdout",
     "output_type": "stream",
     "text": [
      "{'xy_plot': {'MAP_FRAM_PEN': 'black', 'FONT_ANNOT_PRIMARY': '14p,Helvetica-Narrow', 'FONT_LABEL': '14p,black', 'MAP_GRID_PEN_PRIMARY': 'thinner,grey'}}\n"
     ]
    }
   ],
   "source": []
  },
  {
   "cell_type": "code",
   "execution_count": 5,
   "id": "c31dcb90-7039-4259-9e9d-f69d8e20b0fa",
   "metadata": {},
   "outputs": [
    {
     "name": "stdout",
     "output_type": "stream",
     "text": [
      "{'MAP_FRAM_PEN': 'black', 'FONT_ANNOT_PRIMARY': '14p,Helvetica-Narrow', 'FONT_LABEL': '14p,black', 'MAP_GRID_PEN_PRIMARY': 'thinner,grey'}\n"
     ]
    }
   ],
   "source": [
    "print(cfg['xy_plot'])"
   ]
  },
  {
   "cell_type": "code",
   "execution_count": null,
   "id": "b2f6a88e-10e2-4e18-af8d-3e356cd21bd7",
   "metadata": {},
   "outputs": [],
   "source": []
  }
 ],
 "metadata": {
  "kernelspec": {
   "display_name": "Python 3 (ipykernel)",
   "language": "python",
   "name": "python3"
  },
  "language_info": {
   "codemirror_mode": {
    "name": "ipython",
    "version": 3
   },
   "file_extension": ".py",
   "mimetype": "text/x-python",
   "name": "python",
   "nbconvert_exporter": "python",
   "pygments_lexer": "ipython3",
   "version": "3.10.4"
  }
 },
 "nbformat": 4,
 "nbformat_minor": 5
}
